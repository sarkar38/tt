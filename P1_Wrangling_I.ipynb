{
 "cells": [
  {
   "cell_type": "code",
   "execution_count": 14,
   "id": "cb33b1fa",
   "metadata": {
    "ExecuteTime": {
     "end_time": "2025-04-30T17:50:17.032248600Z",
     "start_time": "2025-04-30T17:50:16.768304300Z"
    }
   },
   "outputs": [],
   "source": [
    "# Data Wrangling, I\n",
    "#     Perform the following operations using Python on any open source dataset (e.g., data.csv)\n",
    "#     1. Import all the required Python Libraries.\n",
    "#     2. Locate an open source data from the web (e.g. https://www.kaggle.com). Provide a\n",
    "#     cleardescription of the data and its source (i.e., URL of the web site).\n",
    "#     3. Load the Dataset into pandas data frame.\n",
    "#     4. Data Preprocessing: check for missing values in the data using pandas insult(),\n",
    "#     describe()function to get some initial statistics. Provide variable descriptions. Types\n",
    "#     of variables etc. Check the dimensions of the data frame.\n",
    "#     5. Data Formatting and Data Normalization: Summarize the types of variables by\n",
    "#     checking the data types (i.e., character, numeric, integer, factor, and logical) of the\n",
    "#     variables in the data set. If variables are not in the correct data type, apply proper\n",
    "#     type conversions.\n",
    "#     6. Turn categorical variables into quantitative variables in Python.\n",
    "#     In addition to the codes and outputs, explain every operation that you do in the above steps\n",
    "#     and explain everything that you do to import/read/scrape the data set. --Don"
   ]
  },
  {
   "cell_type": "code",
   "execution_count": 15,
   "metadata": {
    "ExecuteTime": {
     "end_time": "2025-04-30T17:50:17.178799800Z",
     "start_time": "2025-04-30T17:50:16.790304500Z"
    }
   },
   "outputs": [],
   "source": [
    "import numpy as np\n",
    "import pandas as pd\n",
    "import matplotlib.pyplot as plt\n",
    "import seaborn as sns"
   ],
   "id": "db3f3b11288281e9"
  },
  {
   "cell_type": "code",
   "execution_count": 30,
   "id": "026b6805",
   "metadata": {
    "ExecuteTime": {
     "end_time": "2025-04-30T18:06:09.247482300Z",
     "start_time": "2025-04-30T18:06:09.190176800Z"
    }
   },
   "outputs": [
    {
     "name": "stdout",
     "output_type": "stream",
     "text": [
      "              Date Location  MinTemp  MaxTemp  Rainfall  Evaporation  \\\n",
      "142188  2017-06-20    Uluru      3.5     21.8       0.0          NaN   \n",
      "142189  2017-06-21    Uluru      2.8     23.4       0.0          NaN   \n",
      "142190  2017-06-22    Uluru      3.6     25.3       0.0          NaN   \n",
      "142191  2017-06-23    Uluru      5.4     26.9       0.0          NaN   \n",
      "142192  2017-06-24    Uluru      7.8     27.0       0.0          NaN   \n",
      "\n",
      "        Sunshine WindGustDir  WindGustSpeed WindDir9am  ... Humidity3pm  \\\n",
      "142188       NaN           E           31.0        ESE  ...        27.0   \n",
      "142189       NaN           E           31.0         SE  ...        24.0   \n",
      "142190       NaN         NNW           22.0         SE  ...        21.0   \n",
      "142191       NaN           N           37.0         SE  ...        24.0   \n",
      "142192       NaN          SE           28.0        SSE  ...        24.0   \n",
      "\n",
      "        Pressure9am  Pressure3pm  Cloud9am  Cloud3pm  Temp9am  Temp3pm  \\\n",
      "142188       1024.7       1021.2       NaN       NaN      9.4     20.9   \n",
      "142189       1024.6       1020.3       NaN       NaN     10.1     22.4   \n",
      "142190       1023.5       1019.1       NaN       NaN     10.9     24.5   \n",
      "142191       1021.0       1016.8       NaN       NaN     12.5     26.1   \n",
      "142192       1019.4       1016.5       3.0       2.0     15.1     26.0   \n",
      "\n",
      "        RainToday  RISK_MM  RainTomorrow  \n",
      "142188         No      0.0            No  \n",
      "142189         No      0.0            No  \n",
      "142190         No      0.0            No  \n",
      "142191         No      0.0            No  \n",
      "142192         No      0.0            No  \n",
      "\n",
      "[5 rows x 24 columns]\n",
      "<class 'pandas.core.frame.DataFrame'>\n",
      "RangeIndex: 142193 entries, 0 to 142192\n",
      "Data columns (total 24 columns):\n",
      " #   Column         Non-Null Count   Dtype  \n",
      "---  ------         --------------   -----  \n",
      " 0   Date           142193 non-null  object \n",
      " 1   Location       142193 non-null  object \n",
      " 2   MinTemp        141556 non-null  float64\n",
      " 3   MaxTemp        141871 non-null  float64\n",
      " 4   Rainfall       140787 non-null  float64\n",
      " 5   Evaporation    81350 non-null   float64\n",
      " 6   Sunshine       74377 non-null   float64\n",
      " 7   WindGustDir    132863 non-null  object \n",
      " 8   WindGustSpeed  132923 non-null  float64\n",
      " 9   WindDir9am     132180 non-null  object \n",
      " 10  WindDir3pm     138415 non-null  object \n",
      " 11  WindSpeed9am   140845 non-null  float64\n",
      " 12  WindSpeed3pm   139563 non-null  float64\n",
      " 13  Humidity9am    140419 non-null  float64\n",
      " 14  Humidity3pm    138583 non-null  float64\n",
      " 15  Pressure9am    128179 non-null  float64\n",
      " 16  Pressure3pm    128212 non-null  float64\n",
      " 17  Cloud9am       88536 non-null   float64\n",
      " 18  Cloud3pm       85099 non-null   float64\n",
      " 19  Temp9am        141289 non-null  float64\n",
      " 20  Temp3pm        139467 non-null  float64\n",
      " 21  RainToday      140787 non-null  object \n",
      " 22  RISK_MM        142193 non-null  float64\n",
      " 23  RainTomorrow   142193 non-null  object \n",
      "dtypes: float64(17), object(7)\n",
      "memory usage: 26.0+ MB\n",
      "None\n"
     ]
    }
   ],
   "source": [
    "df = pd.read_csv('datasets/weatherAUS.csv')\n",
    "print(df.head(5))\n",
    "print(df.tail(5))\n",
    "print(\"\\nDataset information:\")\n",
    "print(df.info())\n"
   ]
  },
  {
   "cell_type": "code",
   "execution_count": 17,
   "id": "2231303d",
   "metadata": {
    "ExecuteTime": {
     "end_time": "2025-04-30T17:50:17.683656900Z",
     "start_time": "2025-04-30T17:50:17.218319700Z"
    }
   },
   "outputs": [
    {
     "name": "stdout",
     "output_type": "stream",
     "text": [
      "\n",
      "Summary statistics (including object types):\n"
     ]
    },
    {
     "data": {
      "text/plain": "              Date  Location        MinTemp        MaxTemp       Rainfall  \\\ncount       142193    142193  141556.000000  141871.000000  140787.000000   \nunique        3436        49            NaN            NaN            NaN   \ntop     2017-06-23  Canberra            NaN            NaN            NaN   \nfreq            49      3418            NaN            NaN            NaN   \nmean           NaN       NaN      12.186400      23.226784       2.349974   \nstd            NaN       NaN       6.403283       7.117618       8.465173   \nmin            NaN       NaN      -8.500000      -4.800000       0.000000   \n25%            NaN       NaN       7.600000      17.900000       0.000000   \n50%            NaN       NaN      12.000000      22.600000       0.000000   \n75%            NaN       NaN      16.800000      28.200000       0.800000   \nmax            NaN       NaN      33.900000      48.100000     371.000000   \n\n         Evaporation      Sunshine WindGustDir  WindGustSpeed WindDir9am  ...  \\\ncount   81350.000000  74377.000000      132863  132923.000000     132180  ...   \nunique           NaN           NaN          16            NaN         16  ...   \ntop              NaN           NaN           W            NaN          N  ...   \nfreq             NaN           NaN        9780            NaN      11393  ...   \nmean        5.469824      7.624853         NaN      39.984292        NaN  ...   \nstd         4.188537      3.781525         NaN      13.588801        NaN  ...   \nmin         0.000000      0.000000         NaN       6.000000        NaN  ...   \n25%         2.600000      4.900000         NaN      31.000000        NaN  ...   \n50%         4.800000      8.500000         NaN      39.000000        NaN  ...   \n75%         7.400000     10.600000         NaN      48.000000        NaN  ...   \nmax       145.000000     14.500000         NaN     135.000000        NaN  ...   \n\n          Humidity3pm    Pressure9am    Pressure3pm      Cloud9am  \\\ncount   138583.000000  128179.000000  128212.000000  88536.000000   \nunique            NaN            NaN            NaN           NaN   \ntop               NaN            NaN            NaN           NaN   \nfreq              NaN            NaN            NaN           NaN   \nmean        51.482606    1017.653758    1015.258204      4.437189   \nstd         20.797772       7.105476       7.036677      2.887016   \nmin          0.000000     980.500000     977.100000      0.000000   \n25%         37.000000    1012.900000    1010.400000      1.000000   \n50%         52.000000    1017.600000    1015.200000      5.000000   \n75%         66.000000    1022.400000    1020.000000      7.000000   \nmax        100.000000    1041.000000    1039.600000      9.000000   \n\n            Cloud3pm        Temp9am        Temp3pm  RainToday        RISK_MM  \\\ncount   85099.000000  141289.000000  139467.000000     140787  142193.000000   \nunique           NaN            NaN            NaN          2            NaN   \ntop              NaN            NaN            NaN         No            NaN   \nfreq             NaN            NaN            NaN     109332            NaN   \nmean        4.503167      16.987509      21.687235        NaN       2.360682   \nstd         2.720633       6.492838       6.937594        NaN       8.477969   \nmin         0.000000      -7.200000      -5.400000        NaN       0.000000   \n25%         2.000000      12.300000      16.600000        NaN       0.000000   \n50%         5.000000      16.700000      21.100000        NaN       0.000000   \n75%         7.000000      21.600000      26.400000        NaN       0.800000   \nmax         9.000000      40.200000      46.700000        NaN     371.000000   \n\n        RainTomorrow  \ncount         142193  \nunique             2  \ntop               No  \nfreq          110316  \nmean             NaN  \nstd              NaN  \nmin              NaN  \n25%              NaN  \n50%              NaN  \n75%              NaN  \nmax              NaN  \n\n[11 rows x 24 columns]",
      "text/html": "<div>\n<style scoped>\n    .dataframe tbody tr th:only-of-type {\n        vertical-align: middle;\n    }\n\n    .dataframe tbody tr th {\n        vertical-align: top;\n    }\n\n    .dataframe thead th {\n        text-align: right;\n    }\n</style>\n<table border=\"1\" class=\"dataframe\">\n  <thead>\n    <tr style=\"text-align: right;\">\n      <th></th>\n      <th>Date</th>\n      <th>Location</th>\n      <th>MinTemp</th>\n      <th>MaxTemp</th>\n      <th>Rainfall</th>\n      <th>Evaporation</th>\n      <th>Sunshine</th>\n      <th>WindGustDir</th>\n      <th>WindGustSpeed</th>\n      <th>WindDir9am</th>\n      <th>...</th>\n      <th>Humidity3pm</th>\n      <th>Pressure9am</th>\n      <th>Pressure3pm</th>\n      <th>Cloud9am</th>\n      <th>Cloud3pm</th>\n      <th>Temp9am</th>\n      <th>Temp3pm</th>\n      <th>RainToday</th>\n      <th>RISK_MM</th>\n      <th>RainTomorrow</th>\n    </tr>\n  </thead>\n  <tbody>\n    <tr>\n      <th>count</th>\n      <td>142193</td>\n      <td>142193</td>\n      <td>141556.000000</td>\n      <td>141871.000000</td>\n      <td>140787.000000</td>\n      <td>81350.000000</td>\n      <td>74377.000000</td>\n      <td>132863</td>\n      <td>132923.000000</td>\n      <td>132180</td>\n      <td>...</td>\n      <td>138583.000000</td>\n      <td>128179.000000</td>\n      <td>128212.000000</td>\n      <td>88536.000000</td>\n      <td>85099.000000</td>\n      <td>141289.000000</td>\n      <td>139467.000000</td>\n      <td>140787</td>\n      <td>142193.000000</td>\n      <td>142193</td>\n    </tr>\n    <tr>\n      <th>unique</th>\n      <td>3436</td>\n      <td>49</td>\n      <td>NaN</td>\n      <td>NaN</td>\n      <td>NaN</td>\n      <td>NaN</td>\n      <td>NaN</td>\n      <td>16</td>\n      <td>NaN</td>\n      <td>16</td>\n      <td>...</td>\n      <td>NaN</td>\n      <td>NaN</td>\n      <td>NaN</td>\n      <td>NaN</td>\n      <td>NaN</td>\n      <td>NaN</td>\n      <td>NaN</td>\n      <td>2</td>\n      <td>NaN</td>\n      <td>2</td>\n    </tr>\n    <tr>\n      <th>top</th>\n      <td>2017-06-23</td>\n      <td>Canberra</td>\n      <td>NaN</td>\n      <td>NaN</td>\n      <td>NaN</td>\n      <td>NaN</td>\n      <td>NaN</td>\n      <td>W</td>\n      <td>NaN</td>\n      <td>N</td>\n      <td>...</td>\n      <td>NaN</td>\n      <td>NaN</td>\n      <td>NaN</td>\n      <td>NaN</td>\n      <td>NaN</td>\n      <td>NaN</td>\n      <td>NaN</td>\n      <td>No</td>\n      <td>NaN</td>\n      <td>No</td>\n    </tr>\n    <tr>\n      <th>freq</th>\n      <td>49</td>\n      <td>3418</td>\n      <td>NaN</td>\n      <td>NaN</td>\n      <td>NaN</td>\n      <td>NaN</td>\n      <td>NaN</td>\n      <td>9780</td>\n      <td>NaN</td>\n      <td>11393</td>\n      <td>...</td>\n      <td>NaN</td>\n      <td>NaN</td>\n      <td>NaN</td>\n      <td>NaN</td>\n      <td>NaN</td>\n      <td>NaN</td>\n      <td>NaN</td>\n      <td>109332</td>\n      <td>NaN</td>\n      <td>110316</td>\n    </tr>\n    <tr>\n      <th>mean</th>\n      <td>NaN</td>\n      <td>NaN</td>\n      <td>12.186400</td>\n      <td>23.226784</td>\n      <td>2.349974</td>\n      <td>5.469824</td>\n      <td>7.624853</td>\n      <td>NaN</td>\n      <td>39.984292</td>\n      <td>NaN</td>\n      <td>...</td>\n      <td>51.482606</td>\n      <td>1017.653758</td>\n      <td>1015.258204</td>\n      <td>4.437189</td>\n      <td>4.503167</td>\n      <td>16.987509</td>\n      <td>21.687235</td>\n      <td>NaN</td>\n      <td>2.360682</td>\n      <td>NaN</td>\n    </tr>\n    <tr>\n      <th>std</th>\n      <td>NaN</td>\n      <td>NaN</td>\n      <td>6.403283</td>\n      <td>7.117618</td>\n      <td>8.465173</td>\n      <td>4.188537</td>\n      <td>3.781525</td>\n      <td>NaN</td>\n      <td>13.588801</td>\n      <td>NaN</td>\n      <td>...</td>\n      <td>20.797772</td>\n      <td>7.105476</td>\n      <td>7.036677</td>\n      <td>2.887016</td>\n      <td>2.720633</td>\n      <td>6.492838</td>\n      <td>6.937594</td>\n      <td>NaN</td>\n      <td>8.477969</td>\n      <td>NaN</td>\n    </tr>\n    <tr>\n      <th>min</th>\n      <td>NaN</td>\n      <td>NaN</td>\n      <td>-8.500000</td>\n      <td>-4.800000</td>\n      <td>0.000000</td>\n      <td>0.000000</td>\n      <td>0.000000</td>\n      <td>NaN</td>\n      <td>6.000000</td>\n      <td>NaN</td>\n      <td>...</td>\n      <td>0.000000</td>\n      <td>980.500000</td>\n      <td>977.100000</td>\n      <td>0.000000</td>\n      <td>0.000000</td>\n      <td>-7.200000</td>\n      <td>-5.400000</td>\n      <td>NaN</td>\n      <td>0.000000</td>\n      <td>NaN</td>\n    </tr>\n    <tr>\n      <th>25%</th>\n      <td>NaN</td>\n      <td>NaN</td>\n      <td>7.600000</td>\n      <td>17.900000</td>\n      <td>0.000000</td>\n      <td>2.600000</td>\n      <td>4.900000</td>\n      <td>NaN</td>\n      <td>31.000000</td>\n      <td>NaN</td>\n      <td>...</td>\n      <td>37.000000</td>\n      <td>1012.900000</td>\n      <td>1010.400000</td>\n      <td>1.000000</td>\n      <td>2.000000</td>\n      <td>12.300000</td>\n      <td>16.600000</td>\n      <td>NaN</td>\n      <td>0.000000</td>\n      <td>NaN</td>\n    </tr>\n    <tr>\n      <th>50%</th>\n      <td>NaN</td>\n      <td>NaN</td>\n      <td>12.000000</td>\n      <td>22.600000</td>\n      <td>0.000000</td>\n      <td>4.800000</td>\n      <td>8.500000</td>\n      <td>NaN</td>\n      <td>39.000000</td>\n      <td>NaN</td>\n      <td>...</td>\n      <td>52.000000</td>\n      <td>1017.600000</td>\n      <td>1015.200000</td>\n      <td>5.000000</td>\n      <td>5.000000</td>\n      <td>16.700000</td>\n      <td>21.100000</td>\n      <td>NaN</td>\n      <td>0.000000</td>\n      <td>NaN</td>\n    </tr>\n    <tr>\n      <th>75%</th>\n      <td>NaN</td>\n      <td>NaN</td>\n      <td>16.800000</td>\n      <td>28.200000</td>\n      <td>0.800000</td>\n      <td>7.400000</td>\n      <td>10.600000</td>\n      <td>NaN</td>\n      <td>48.000000</td>\n      <td>NaN</td>\n      <td>...</td>\n      <td>66.000000</td>\n      <td>1022.400000</td>\n      <td>1020.000000</td>\n      <td>7.000000</td>\n      <td>7.000000</td>\n      <td>21.600000</td>\n      <td>26.400000</td>\n      <td>NaN</td>\n      <td>0.800000</td>\n      <td>NaN</td>\n    </tr>\n    <tr>\n      <th>max</th>\n      <td>NaN</td>\n      <td>NaN</td>\n      <td>33.900000</td>\n      <td>48.100000</td>\n      <td>371.000000</td>\n      <td>145.000000</td>\n      <td>14.500000</td>\n      <td>NaN</td>\n      <td>135.000000</td>\n      <td>NaN</td>\n      <td>...</td>\n      <td>100.000000</td>\n      <td>1041.000000</td>\n      <td>1039.600000</td>\n      <td>9.000000</td>\n      <td>9.000000</td>\n      <td>40.200000</td>\n      <td>46.700000</td>\n      <td>NaN</td>\n      <td>371.000000</td>\n      <td>NaN</td>\n    </tr>\n  </tbody>\n</table>\n<p>11 rows × 24 columns</p>\n</div>"
     },
     "execution_count": 17,
     "metadata": {},
     "output_type": "execute_result"
    }
   ],
   "source": [
    "print(\"\\nSummary statistics (including object types):\")\n",
    "df.describe(include='all')"
   ]
  },
  {
   "cell_type": "code",
   "execution_count": 18,
   "id": "cbddb8ef",
   "metadata": {
    "ExecuteTime": {
     "end_time": "2025-04-30T17:50:17.686656800Z",
     "start_time": "2025-04-30T17:50:17.533774600Z"
    }
   },
   "outputs": [
    {
     "name": "stdout",
     "output_type": "stream",
     "text": [
      "\n",
      "Missing values per column:\n",
      "Date                 0\n",
      "Location             0\n",
      "MinTemp            637\n",
      "MaxTemp            322\n",
      "Rainfall          1406\n",
      "Evaporation      60843\n",
      "Sunshine         67816\n",
      "WindGustDir       9330\n",
      "WindGustSpeed     9270\n",
      "WindDir9am       10013\n",
      "WindDir3pm        3778\n",
      "WindSpeed9am      1348\n",
      "WindSpeed3pm      2630\n",
      "Humidity9am       1774\n",
      "Humidity3pm       3610\n",
      "Pressure9am      14014\n",
      "Pressure3pm      13981\n",
      "Cloud9am         53657\n",
      "Cloud3pm         57094\n",
      "Temp9am            904\n",
      "Temp3pm           2726\n",
      "RainToday         1406\n",
      "RISK_MM              0\n",
      "RainTomorrow         0\n",
      "dtype: int64\n"
     ]
    }
   ],
   "source": [
    "print(\"\\nMissing values per column:\")\n",
    "print(df.isnull().sum())"
   ]
  },
  {
   "cell_type": "code",
   "execution_count": 19,
   "id": "e91900c1",
   "metadata": {
    "ExecuteTime": {
     "end_time": "2025-04-30T17:50:17.688655600Z",
     "start_time": "2025-04-30T17:50:17.581774500Z"
    }
   },
   "outputs": [
    {
     "name": "stdout",
     "output_type": "stream",
     "text": [
      "\n",
      "Shape of dataset (rows, columns):\n",
      "(142193, 24)\n"
     ]
    }
   ],
   "source": [
    "print(\"\\nShape of dataset (rows, columns):\")\n",
    "print(df.shape)"
   ]
  },
  {
   "cell_type": "code",
   "execution_count": 20,
   "id": "0be36cd1",
   "metadata": {
    "ExecuteTime": {
     "end_time": "2025-04-30T17:50:17.772176600Z",
     "start_time": "2025-04-30T17:50:17.597781100Z"
    }
   },
   "outputs": [
    {
     "name": "stdout",
     "output_type": "stream",
     "text": [
      "\n",
      "Original data types:\n",
      "Date              object\n",
      "Location          object\n",
      "MinTemp          float64\n",
      "MaxTemp          float64\n",
      "Rainfall         float64\n",
      "Evaporation      float64\n",
      "Sunshine         float64\n",
      "WindGustDir       object\n",
      "WindGustSpeed    float64\n",
      "WindDir9am        object\n",
      "WindDir3pm        object\n",
      "WindSpeed9am     float64\n",
      "WindSpeed3pm     float64\n",
      "Humidity9am      float64\n",
      "Humidity3pm      float64\n",
      "Pressure9am      float64\n",
      "Pressure3pm      float64\n",
      "Cloud9am         float64\n",
      "Cloud3pm         float64\n",
      "Temp9am          float64\n",
      "Temp3pm          float64\n",
      "RainToday         object\n",
      "RISK_MM          float64\n",
      "RainTomorrow      object\n",
      "dtype: object\n"
     ]
    }
   ],
   "source": [
    "print(\"\\nOriginal data types:\")\n",
    "print(df.dtypes)"
   ]
  },
  {
   "cell_type": "code",
   "execution_count": 31,
   "id": "3c438968",
   "metadata": {
    "ExecuteTime": {
     "end_time": "2025-04-30T18:10:09.775081700Z",
     "start_time": "2025-04-30T18:10:09.701930400Z"
    }
   },
   "outputs": [],
   "source": [
    "# 5.2 Convert 'Date' column to datetime\n",
    "df['Date'] = pd.to_datetime(df['Date'], errors='coerce')"
   ]
  },
  {
   "cell_type": "code",
   "execution_count": 22,
   "id": "d1e04df7",
   "metadata": {
    "ExecuteTime": {
     "end_time": "2025-04-30T17:50:18.038101600Z",
     "start_time": "2025-04-30T17:50:17.674657800Z"
    }
   },
   "outputs": [
    {
     "name": "stderr",
     "output_type": "stream",
     "text": [
      "C:\\Users\\onkar\\AppData\\Local\\Temp\\ipykernel_18012\\2549916713.py:4: FutureWarning: A value is trying to be set on a copy of a DataFrame or Series through chained assignment using an inplace method.\n",
      "The behavior will change in pandas 3.0. This inplace method will never work because the intermediate object on which we are setting values always behaves as a copy.\n",
      "\n",
      "For example, when doing 'df[col].method(value, inplace=True)', try using 'df.method({col: value}, inplace=True)' or df[col] = df[col].method(value) instead, to perform the operation inplace on the original object.\n",
      "\n",
      "\n",
      "  df[col].fillna(df[col].mode()[0], inplace=True)\n"
     ]
    }
   ],
   "source": [
    "# 5.3 Fill missing categorical values with mode\n",
    "categorical_cols = df.select_dtypes(include='object').columns\n",
    "for col in categorical_cols:\n",
    "    df[col].fillna(df[col].mode()[0], inplace=True)"
   ]
  },
  {
   "cell_type": "code",
   "execution_count": 23,
   "id": "73b2ccfb",
   "metadata": {
    "ExecuteTime": {
     "end_time": "2025-04-30T17:50:18.041102600Z",
     "start_time": "2025-04-30T17:50:17.771176300Z"
    }
   },
   "outputs": [
    {
     "name": "stderr",
     "output_type": "stream",
     "text": [
      "C:\\Users\\onkar\\AppData\\Local\\Temp\\ipykernel_18012\\3379577393.py:4: FutureWarning: A value is trying to be set on a copy of a DataFrame or Series through chained assignment using an inplace method.\n",
      "The behavior will change in pandas 3.0. This inplace method will never work because the intermediate object on which we are setting values always behaves as a copy.\n",
      "\n",
      "For example, when doing 'df[col].method(value, inplace=True)', try using 'df.method({col: value}, inplace=True)' or df[col] = df[col].method(value) instead, to perform the operation inplace on the original object.\n",
      "\n",
      "\n",
      "  df[col].fillna(df[col].mean(), inplace=True)\n"
     ]
    }
   ],
   "source": [
    "# 5.4 Fill missing numeric values with mean\n",
    "numeric_cols = df.select_dtypes(include=['float64', 'int64']).columns\n",
    "for col in numeric_cols:\n",
    "    df[col].fillna(df[col].mean(), inplace=True)"
   ]
  },
  {
   "cell_type": "code",
   "execution_count": 24,
   "id": "bd7816a0",
   "metadata": {
    "ExecuteTime": {
     "end_time": "2025-04-30T17:50:18.141414400Z",
     "start_time": "2025-04-30T17:50:17.832735100Z"
    }
   },
   "outputs": [
    {
     "name": "stdout",
     "output_type": "stream",
     "text": [
      "<class 'pandas.core.frame.DataFrame'>\n",
      "RangeIndex: 142193 entries, 0 to 142192\n",
      "Data columns (total 24 columns):\n",
      " #   Column         Non-Null Count   Dtype         \n",
      "---  ------         --------------   -----         \n",
      " 0   Date           142193 non-null  datetime64[ns]\n",
      " 1   Location       142193 non-null  object        \n",
      " 2   MinTemp        142193 non-null  float64       \n",
      " 3   MaxTemp        142193 non-null  float64       \n",
      " 4   Rainfall       142193 non-null  float64       \n",
      " 5   Evaporation    142193 non-null  float64       \n",
      " 6   Sunshine       142193 non-null  float64       \n",
      " 7   WindGustDir    142193 non-null  object        \n",
      " 8   WindGustSpeed  142193 non-null  float64       \n",
      " 9   WindDir9am     142193 non-null  object        \n",
      " 10  WindDir3pm     142193 non-null  object        \n",
      " 11  WindSpeed9am   142193 non-null  float64       \n",
      " 12  WindSpeed3pm   142193 non-null  float64       \n",
      " 13  Humidity9am    142193 non-null  float64       \n",
      " 14  Humidity3pm    142193 non-null  float64       \n",
      " 15  Pressure9am    142193 non-null  float64       \n",
      " 16  Pressure3pm    142193 non-null  float64       \n",
      " 17  Cloud9am       142193 non-null  float64       \n",
      " 18  Cloud3pm       142193 non-null  float64       \n",
      " 19  Temp9am        142193 non-null  float64       \n",
      " 20  Temp3pm        142193 non-null  float64       \n",
      " 21  RainToday      142193 non-null  object        \n",
      " 22  RISK_MM        142193 non-null  float64       \n",
      " 23  RainTomorrow   142193 non-null  object        \n",
      "dtypes: datetime64[ns](1), float64(17), object(6)\n",
      "memory usage: 26.0+ MB\n"
     ]
    }
   ],
   "source": [
    "df.info()"
   ]
  },
  {
   "cell_type": "code",
   "execution_count": 25,
   "id": "01e90211",
   "metadata": {
    "ExecuteTime": {
     "end_time": "2025-04-30T17:50:24.039122200Z",
     "start_time": "2025-04-30T17:50:17.883735200Z"
    }
   },
   "outputs": [
    {
     "name": "stdout",
     "output_type": "stream",
     "text": [
      "\n",
      "Sample of encoded data:\n",
      "  RainToday  RainToday_encoded RainTomorrow  RainTomorrow_encoded\n",
      "0        No                  0           No                     0\n",
      "1        No                  0           No                     0\n",
      "2        No                  0           No                     0\n",
      "3        No                  0           No                     0\n",
      "4        No                  0           No                     0\n",
      "\n",
      "Final DataFrame info after cleaning and encoding:\n",
      "<class 'pandas.core.frame.DataFrame'>\n",
      "RangeIndex: 142193 entries, 0 to 142192\n",
      "Data columns (total 26 columns):\n",
      " #   Column                Non-Null Count   Dtype         \n",
      "---  ------                --------------   -----         \n",
      " 0   Date                  142193 non-null  datetime64[ns]\n",
      " 1   Location              142193 non-null  int64         \n",
      " 2   MinTemp               142193 non-null  float64       \n",
      " 3   MaxTemp               142193 non-null  float64       \n",
      " 4   Rainfall              142193 non-null  float64       \n",
      " 5   Evaporation           142193 non-null  float64       \n",
      " 6   Sunshine              142193 non-null  float64       \n",
      " 7   WindGustDir           142193 non-null  int64         \n",
      " 8   WindGustSpeed         142193 non-null  float64       \n",
      " 9   WindDir9am            142193 non-null  int64         \n",
      " 10  WindDir3pm            142193 non-null  int64         \n",
      " 11  WindSpeed9am          142193 non-null  float64       \n",
      " 12  WindSpeed3pm          142193 non-null  float64       \n",
      " 13  Humidity9am           142193 non-null  float64       \n",
      " 14  Humidity3pm           142193 non-null  float64       \n",
      " 15  Pressure9am           142193 non-null  float64       \n",
      " 16  Pressure3pm           142193 non-null  float64       \n",
      " 17  Cloud9am              142193 non-null  float64       \n",
      " 18  Cloud3pm              142193 non-null  float64       \n",
      " 19  Temp9am               142193 non-null  float64       \n",
      " 20  Temp3pm               142193 non-null  float64       \n",
      " 21  RainToday             142193 non-null  object        \n",
      " 22  RISK_MM               142193 non-null  float64       \n",
      " 23  RainTomorrow          142193 non-null  object        \n",
      " 24  RainToday_encoded     142193 non-null  int64         \n",
      " 25  RainTomorrow_encoded  142193 non-null  int64         \n",
      "dtypes: datetime64[ns](1), float64(17), int64(6), object(2)\n",
      "memory usage: 28.2+ MB\n",
      "None\n"
     ]
    }
   ],
   "source": [
    "# Step 6: Convert Categorical Variables to Quantitative\n",
    "\n",
    "# 6.1 Convert 'RainToday' and 'RainTomorrow' to binary\n",
    "df['RainToday_encoded'] = df['RainToday'].map({'No': 0, 'Yes': 1})\n",
    "df['RainTomorrow_encoded'] = df['RainTomorrow'].map({'No': 0, 'Yes': 1})\n",
    "\n",
    "# 6.2 Encode other categorical variables using label encoding\n",
    "from sklearn.preprocessing import LabelEncoder\n",
    "\n",
    "label_encoders = {}\n",
    "for col in categorical_cols:\n",
    "    if col not in ['RainToday', 'RainTomorrow']:\n",
    "        le = LabelEncoder()\n",
    "        df[col] = le.fit_transform(df[col])\n",
    "        label_encoders[col] = le  # Save encoder if needed later\n",
    "\n",
    "# Final encoded preview\n",
    "print(\"\\nSample of encoded data:\")\n",
    "print(df[['RainToday', 'RainToday_encoded', 'RainTomorrow', 'RainTomorrow_encoded']].head())\n",
    "\n",
    "# Final DataFrame Info\n",
    "print(\"\\nFinal DataFrame info after cleaning and encoding:\")\n",
    "print(df.info())\n"
   ]
  }
 ],
 "metadata": {
  "kernelspec": {
   "display_name": "Python 3",
   "language": "python",
   "name": "python3"
  },
  "language_info": {
   "codemirror_mode": {
    "name": "ipython",
    "version": 3
   },
   "file_extension": ".py",
   "mimetype": "text/x-python",
   "name": "python",
   "nbconvert_exporter": "python",
   "pygments_lexer": "ipython3",
   "version": "3.9.0"
  }
 },
 "nbformat": 4,
 "nbformat_minor": 5
}
